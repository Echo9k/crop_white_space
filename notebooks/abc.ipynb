{
 "cells": [
  {
   "cell_type": "code",
   "execution_count": 3,
   "outputs": [],
   "source": [
    "import cv2\n",
    "from src.image_processing import otsus_thresholding, canny_edge_detection, find_contour_bounds, morphological_operations\n",
    "from src.utils import show_or_save_image\n",
    "from src.config import read_config"
   ],
   "metadata": {
    "collapsed": false,
    "ExecuteTime": {
     "end_time": "2023-11-22T07:21:32.122428900Z",
     "start_time": "2023-11-22T07:21:32.116415600Z"
    }
   },
   "id": "21e3dd0fd71ab1c"
  },
  {
   "cell_type": "code",
   "execution_count": 4,
   "outputs": [],
   "source": [
    "def main():\n",
    "    config = read_config()\n",
    "\n",
    "    # Extract parameters from config\n",
    "    otsu_params = config.get('otsu', {})\n",
    "    canny_params = config.get('canny', {})\n",
    "    morph_params = config.get('morphological_operations', {})\n",
    "\n",
    "    path_raw = r\"../data/raw/img.png\"\n",
    "    path_internim = r\"../data/interim/img.png\"\n",
    "    path_preproceesed = r\"../data/processed/img.png\"\n",
    "\n",
    "    # Read the image\n",
    "    image = cv2.imread(path_raw)\n",
    "    if image is None:\n",
    "        print(f\"Error: Unable to read image {path_raw}\")\n",
    "        return\n",
    "\n",
    "    # Convert to grayscale\n",
    "    gray = cv2.cvtColor(image, cv2.COLOR_BGR2GRAY)\n",
    "\n",
    "    # Apply Otsu's thresholding\n",
    "    otsu_thresh = otsus_thresholding(gray, **otsu_params)\n",
    "    show_or_save_image(otsu_thresh, \"Otsu Threshold\",\n",
    "                       path=path_internim,\n",
    "                       filename=\"otsu_thresh.png\")\n",
    "\n",
    "    # Optionally apply morphological operations\n",
    "    morphed = morphological_operations(otsu_thresh, **morph_params)\n",
    "    show_or_save_image(morphed, \"Morphological Operations\",\n",
    "                       path=path_internim,\n",
    "                       filename=\"morphed.png\")\n",
    "\n",
    "    # Canny edge detection\n",
    "    edges = canny_edge_detection(morphed, **canny_params)\n",
    "    show_or_save_image(edges, \"Canny Edges\",\n",
    "                       path=path_internim,\n",
    "                       filename=\"canny_edges.png\")\n",
    "\n",
    "    # Find contour bounds\n",
    "    contour_bounds = find_contour_bounds(edges)\n",
    "    if contour_bounds:\n",
    "        x1, y1, x2, y2 = contour_bounds\n",
    "        cropped_image = image[y1:y2, x1:x2]\n",
    "        show_or_save_image(cropped_image, \"Cropped Image\",\n",
    "                       path=path_internim,\n",
    "                       filename=\"cropped_image.png\")\n",
    "\n",
    "        # Save the final cropped image\n",
    "        cv2.imwrite(path_preproceesed, cropped_image)\n",
    "    else:\n",
    "        print(\"No significant contours found.\")"
   ],
   "metadata": {
    "collapsed": false,
    "ExecuteTime": {
     "end_time": "2023-11-22T07:21:32.629663800Z",
     "start_time": "2023-11-22T07:21:32.621656600Z"
    }
   },
   "id": "d128f34fcd03e836"
  },
  {
   "cell_type": "code",
   "execution_count": 3,
   "outputs": [],
   "source": [
    "if __name__ == \"__main__\":\n",
    "    main()"
   ],
   "metadata": {
    "collapsed": false,
    "ExecuteTime": {
     "end_time": "2023-11-22T06:47:03.255838900Z",
     "start_time": "2023-11-22T06:47:03.252280400Z"
    }
   },
   "id": "ef241976bc25246f"
  },
  {
   "cell_type": "code",
   "execution_count": 7,
   "outputs": [
    {
     "ename": "TypeError",
     "evalue": "main() missing 5 required positional arguments: 'input_folder', 'output_folder', 'config_path', 'save_interim', and 'num_processes'",
     "output_type": "error",
     "traceback": [
      "\u001B[1;31m---------------------------------------------------------------------------\u001B[0m",
      "\u001B[1;31mTypeError\u001B[0m                                 Traceback (most recent call last)",
      "Cell \u001B[1;32mIn[7], line 5\u001B[0m\n\u001B[0;32m      3\u001B[0m sys\u001B[38;5;241m.\u001B[39margv \u001B[38;5;241m=\u001B[39m [\u001B[38;5;124m'\u001B[39m\u001B[38;5;124mscript_name.py\u001B[39m\u001B[38;5;124m'\u001B[39m, \u001B[38;5;124m'\u001B[39m\u001B[38;5;124m/path/to/input\u001B[39m\u001B[38;5;124m'\u001B[39m, \u001B[38;5;124m'\u001B[39m\u001B[38;5;124m/path/to/output\u001B[39m\u001B[38;5;124m'\u001B[39m, \u001B[38;5;124m'\u001B[39m\u001B[38;5;124m/path/to/config.json\u001B[39m\u001B[38;5;124m'\u001B[39m, \u001B[38;5;124m'\u001B[39m\u001B[38;5;124m--save_interim\u001B[39m\u001B[38;5;124m'\u001B[39m, \u001B[38;5;124m'\u001B[39m\u001B[38;5;124m--processes\u001B[39m\u001B[38;5;124m'\u001B[39m, \u001B[38;5;124m'\u001B[39m\u001B[38;5;124m4\u001B[39m\u001B[38;5;124m'\u001B[39m]\n\u001B[0;32m      4\u001B[0m \u001B[38;5;28;01mfrom\u001B[39;00m \u001B[38;5;21;01msrc\u001B[39;00m\u001B[38;5;21;01m.\u001B[39;00m\u001B[38;5;21;01mprocess_images\u001B[39;00m \u001B[38;5;28;01mimport\u001B[39;00m main\n\u001B[1;32m----> 5\u001B[0m \u001B[43mmain\u001B[49m\u001B[43m(\u001B[49m\u001B[43m)\u001B[49m\n",
      "\u001B[1;31mTypeError\u001B[0m: main() missing 5 required positional arguments: 'input_folder', 'output_folder', 'config_path', 'save_interim', and 'num_processes'"
     ]
    }
   ],
   "source": [
    "import sys\n",
    "\n",
    "sys.argv = ['script_name.py', '/path/to/input', '/path/to/output', '/path/to/config.json', '--save_interim', '--processes', '4']\n"
   ],
   "metadata": {
    "collapsed": false,
    "ExecuteTime": {
     "end_time": "2023-11-22T07:33:17.495506400Z",
     "start_time": "2023-11-22T07:33:17.473050300Z"
    }
   },
   "id": "b5e54e63249fe4f4"
  }
 ],
 "metadata": {
  "kernelspec": {
   "display_name": "Python 3",
   "language": "python",
   "name": "python3"
  },
  "language_info": {
   "codemirror_mode": {
    "name": "ipython",
    "version": 2
   },
   "file_extension": ".py",
   "mimetype": "text/x-python",
   "name": "python",
   "nbconvert_exporter": "python",
   "pygments_lexer": "ipython2",
   "version": "2.7.6"
  }
 },
 "nbformat": 4,
 "nbformat_minor": 5
}
