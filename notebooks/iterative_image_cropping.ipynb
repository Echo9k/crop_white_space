{
 "cells": [
  {
   "cell_type": "markdown",
   "id": "bfcb87f5b7b2824",
   "metadata": {
    "collapsed": false
   },
   "source": [
    "# Importing libraries"
   ]
  },
  {
   "cell_type": "code",
   "execution_count": 5,
   "id": "6554b643",
   "metadata": {},
   "outputs": [],
   "source": [
    "# add crop_white_space to the path\n",
    "import sys\n",
    "sys.path.append('..')"
   ]
  },
  {
   "cell_type": "code",
   "execution_count": 6,
   "id": "efc9e2b3",
   "metadata": {},
   "outputs": [
    {
     "ename": "ModuleNotFoundError",
     "evalue": "No module named 'crop_white_space.utils'; 'crop_white_space' is not a package",
     "output_type": "error",
     "traceback": [
      "\u001b[1;31m---------------------------------------------------------------------------\u001b[0m",
      "\u001b[1;31mModuleNotFoundError\u001b[0m                       Traceback (most recent call last)",
      "Cell \u001b[1;32mIn[6], line 1\u001b[0m\n\u001b[1;32m----> 1\u001b[0m \u001b[38;5;28;01mfrom\u001b[39;00m \u001b[38;5;21;01mcrop_white_space\u001b[39;00m\u001b[38;5;21;01m.\u001b[39;00m\u001b[38;5;21;01mutils\u001b[39;00m \u001b[38;5;28;01mimport\u001b[39;00m find_images\n\u001b[0;32m      2\u001b[0m \u001b[38;5;28;01mfrom\u001b[39;00m \u001b[38;5;21;01mcrop_white_space\u001b[39;00m\u001b[38;5;21;01m.\u001b[39;00m\u001b[38;5;21;01mimage_processing\u001b[39;00m \u001b[38;5;28;01mimport\u001b[39;00m process_image\n",
      "\u001b[1;31mModuleNotFoundError\u001b[0m: No module named 'crop_white_space.utils'; 'crop_white_space' is not a package"
     ]
    }
   ],
   "source": [
    "from crop_white_space.utils import find_images\n",
    "from crop_white_space.image_processing import process_image"
   ]
  },
  {
   "cell_type": "markdown",
   "id": "9274f3bc9a7bd2d7",
   "metadata": {
    "collapsed": false
   },
   "source": [
    "# Defining the main function"
   ]
  },
  {
   "cell_type": "code",
   "execution_count": null,
   "id": "f5c2fbec",
   "metadata": {},
   "outputs": [],
   "source": [
    "def main(input_folder, output_folder, config_path, save_interim, num_processes=1):\n",
    "    image_paths = find_images(input_folder)\n",
    "    for image_path in image_paths:\n",
    "        process_image(image_path, output_folder, config_path, save_interim)"
   ]
  },
  {
   "cell_type": "markdown",
   "id": "35714c196c3593a6",
   "metadata": {
    "collapsed": false
   },
   "source": [
    "# Setting up the command line arguments"
   ]
  },
  {
   "cell_type": "markdown",
   "id": "661dc72ceef20e7",
   "metadata": {
    "collapsed": false
   },
   "source": [
    "Simulating command line arguments"
   ]
  },
  {
   "cell_type": "code",
   "execution_count": null,
   "id": "7475163276ceba28",
   "metadata": {
    "collapsed": false
   },
   "outputs": [],
   "source": [
    "class Args:\n",
    "    input_folder = \"data/input\"        # replace with your actual path\n",
    "    output_folder = \"data/output\"      # replace with your actual path\n",
    "    config_path = \"config/config.yaml\" # replace with your actual path\n",
    "    save_interim = False\n",
    "    num_processes = 1\n",
    "\n",
    "args = Args()"
   ]
  },
  {
   "cell_type": "markdown",
   "id": "1678a6c01d454bb8",
   "metadata": {
    "collapsed": false
   },
   "source": [
    "# Running the main function"
   ]
  },
  {
   "cell_type": "markdown",
   "id": "1cadfcf881dfc28f",
   "metadata": {
    "collapsed": false
   },
   "source": [
    "Running the main function with simulated arguments"
   ]
  },
  {
   "cell_type": "code",
   "execution_count": 6,
   "id": "0e8bf327",
   "metadata": {},
   "outputs": [],
   "source": [
    "main(args.input_folder, args.output_folder, args.config_path, args.save_interim, args.num_processes)"
   ]
  }
 ],
 "metadata": {
  "kernelspec": {
   "display_name": "Python 3",
   "language": "python",
   "name": "python3"
  },
  "language_info": {
   "codemirror_mode": {
    "name": "ipython",
    "version": 3
   },
   "file_extension": ".py",
   "mimetype": "text/x-python",
   "name": "python",
   "nbconvert_exporter": "python",
   "pygments_lexer": "ipython3",
   "version": "3.11.7"
  }
 },
 "nbformat": 4,
 "nbformat_minor": 5
}
