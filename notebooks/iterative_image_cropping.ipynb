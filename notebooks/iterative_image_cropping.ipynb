{
 "cells": [
  {
   "cell_type": "markdown",
   "source": [
    "# Importing libraries"
   ],
   "metadata": {
    "collapsed": false
   },
   "id": "bfcb87f5b7b2824"
  },
  {
   "cell_type": "code",
   "execution_count": null,
   "id": "efc9e2b3",
   "metadata": {},
   "outputs": [],
   "source": [
    "from src.utils import find_images\n",
    "from src.image_processing import process_image"
   ]
  },
  {
   "cell_type": "markdown",
   "source": [
    "# Defining the main function"
   ],
   "metadata": {
    "collapsed": false
   },
   "id": "9274f3bc9a7bd2d7"
  },
  {
   "cell_type": "code",
   "execution_count": null,
   "id": "f5c2fbec",
   "metadata": {},
   "outputs": [],
   "source": [
    "def main(input_folder, output_folder, config_path, save_interim, num_processes=1):\n",
    "    image_paths = find_images(input_folder)\n",
    "    for image_path in image_paths:\n",
    "        process_image(image_path, output_folder, config_path, save_interim)"
   ]
  },
  {
   "cell_type": "markdown",
   "source": [
    "# Setting up the command line arguments"
   ],
   "metadata": {
    "collapsed": false
   },
   "id": "35714c196c3593a6"
  },
  {
   "cell_type": "markdown",
   "source": [
    "Simulating command line arguments"
   ],
   "metadata": {
    "collapsed": false
   },
   "id": "661dc72ceef20e7"
  },
  {
   "cell_type": "code",
   "execution_count": null,
   "outputs": [],
   "source": [
    "class Args:\n",
    "    input_folder = \"data/input\"        # replace with your actual path\n",
    "    output_folder = \"data/output\"      # replace with your actual path\n",
    "    config_path = \"config/config.yaml\" # replace with your actual path\n",
    "    save_interim = False\n",
    "    num_processes = 1\n",
    "\n",
    "args = Args()"
   ],
   "metadata": {
    "collapsed": false
   },
   "id": "7475163276ceba28"
  },
  {
   "cell_type": "markdown",
   "source": [
    "# Running the main function"
   ],
   "metadata": {
    "collapsed": false
   },
   "id": "1678a6c01d454bb8"
  },
  {
   "cell_type": "markdown",
   "source": [
    "Running the main function with simulated arguments"
   ],
   "metadata": {
    "collapsed": false
   },
   "id": "1cadfcf881dfc28f"
  },
  {
   "cell_type": "code",
   "execution_count": 6,
   "id": "0e8bf327",
   "metadata": {},
   "outputs": [],
   "source": [
    "main(args.input_folder, args.output_folder, args.config_path, args.save_interim, args.num_processes)"
   ]
  }
 ],
 "metadata": {
  "kernelspec": {
   "display_name": "Python 3",
   "language": "python",
   "name": "python3"
  },
  "language_info": {
   "codemirror_mode": {
    "name": "ipython",
    "version": 3
   },
   "file_extension": ".py",
   "mimetype": "text/x-python",
   "name": "python",
   "nbconvert_exporter": "python",
   "pygments_lexer": "ipython3",
   "version": "3.11.6"
  }
 },
 "nbformat": 4,
 "nbformat_minor": 5
}
