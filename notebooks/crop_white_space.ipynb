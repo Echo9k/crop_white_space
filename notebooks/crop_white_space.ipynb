{
 "cells": [
  {
   "cell_type": "code",
   "execution_count": null,
   "outputs": [],
   "source": [
    "import cv2\n",
    "from crop_white_space.image_processing import otsus_thresholding, canny_edge_detection, find_contour_bounds, morphological_operations\n",
    "from crop_white_space.utils import show_or_save_image\n",
    "from crop_white_space.config import read_config"
   ],
   "metadata": {
    "collapsed": false,
    "is_executing": true
   },
   "id": "21e3dd0fd71ab1c"
  },
  {
   "cell_type": "code",
   "execution_count": 12,
   "outputs": [],
   "source": [
    "def main():\n",
    "    config = read_config()\n",
    "\n",
    "    # Extract parameters from config\n",
    "    otsu_params = config.get('otsu', {})\n",
    "    canny_params = config.get('canny', {})\n",
    "    morph_params = config.get('morphological_operations', {})\n",
    "\n",
    "    path_raw = r\"../data/raw/img.png\"\n",
    "    path_internim = r\"../data/interim/img.png\"\n",
    "    path_preproceesed = r\"../data/processed/img.png\"\n",
    "\n",
    "    # Read the image\n",
    "    image = cv2.imread(path_raw)\n",
    "    if image is None:\n",
    "        print(f\"Error: Unable to read image {path_raw}\")\n",
    "        return\n",
    "\n",
    "    # Convert to grayscale\n",
    "    gray = cv2.cvtColor(image, cv2.COLOR_BGR2GRAY)\n",
    "\n",
    "    # Apply Otsu's thresholding\n",
    "    otsu_thresh = otsus_thresholding(gray, **otsu_params)\n",
    "    show_or_save_image(otsu_thresh, \"Otsu Threshold\",\n",
    "                       path=path_internim,\n",
    "                       filename=\"otsu_thresh.png\")\n",
    "\n",
    "    # Optionally apply morphological operations\n",
    "    morphed = morphological_operations(otsu_thresh, **morph_params)\n",
    "    show_or_save_image(morphed, \"Morphological Operations\",\n",
    "                       path=path_internim,\n",
    "                       filename=\"morphed.png\")\n",
    "\n",
    "    # Canny edge detection\n",
    "    edges = canny_edge_detection(morphed, **canny_params)\n",
    "    show_or_save_image(edges, \"Canny Edges\",\n",
    "                       path=path_internim,\n",
    "                       filename=\"canny_edges.png\")\n",
    "\n",
    "    # Find contour bounds\n",
    "    contour_bounds = find_contour_bounds(edges)\n",
    "    if contour_bounds:\n",
    "        x1, y1, x2, y2 = contour_bounds\n",
    "        cropped_image = image[y1:y2, x1:x2]\n",
    "        show_or_save_image(cropped_image, \"Cropped Image\",\n",
    "                       path=path_internim,\n",
    "                       filename=\"cropped_image.png\")\n",
    "\n",
    "        # Save the final cropped image\n",
    "        cv2.imwrite(path_preproceesed, cropped_image)\n",
    "    else:\n",
    "        print(\"No significant contours found.\")"
   ],
   "metadata": {
    "collapsed": false,
    "ExecuteTime": {
     "end_time": "2023-11-22T17:43:34.218153500Z",
     "start_time": "2023-11-22T17:43:34.205347900Z"
    }
   },
   "id": "d128f34fcd03e836"
  },
  {
   "cell_type": "code",
   "execution_count": 13,
   "outputs": [],
   "source": [
    "if __name__ == \"__main__\":\n",
    "    main()"
   ],
   "metadata": {
    "collapsed": false,
    "ExecuteTime": {
     "end_time": "2023-11-22T17:43:36.469917Z",
     "start_time": "2023-11-22T17:43:36.405641300Z"
    }
   },
   "id": "ef241976bc25246f"
  }
 ],
 "metadata": {
  "kernelspec": {
   "display_name": "Python 3",
   "language": "python",
   "name": "python3"
  },
  "language_info": {
   "codemirror_mode": {
    "name": "ipython",
    "version": 2
   },
   "file_extension": ".py",
   "mimetype": "text/x-python",
   "name": "python",
   "nbconvert_exporter": "python",
   "pygments_lexer": "ipython2",
   "version": "2.7.6"
  }
 },
 "nbformat": 4,
 "nbformat_minor": 5
}
